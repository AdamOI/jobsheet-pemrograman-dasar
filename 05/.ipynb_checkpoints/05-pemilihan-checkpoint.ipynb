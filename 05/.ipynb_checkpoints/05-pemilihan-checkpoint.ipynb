{
 "cells": [
  {
   "cell_type": "markdown",
   "metadata": {
    "collapsed": true
   },
   "source": [
    "## JOBSHEET 5\n",
    "\n",
    "## PEMILIHAN 1\n",
    "\n",
    "### Tujuan\n",
    "\n",
    "Mahasiswa mampu menyelesaikan permasalahan/studi kasus menggunakan sintaks pemilihan 1 dan mengimplemantasikannya dalam bahasa pemrogaman java.\n",
    "\n",
    "### Alat dan Bahan\n",
    "+ PC/laptop\n",
    "+ Browser(chrome, firefox, safari)\n",
    "+ Koneksi internet\n",
    "\n",
    "### Praktikum\n",
    "\n",
    "#### Percobaan 1 : Penggunaan if\n",
    "\n",
    "#### Waktu percobaan : 40 menit\n",
    "\n",
    "1. Perhatikan flowchart dibawah ini!\n",
    "\n",
    "    <p align=\"left\">\n",
    "    <img width=\"351\" height=\"460\" src=\"images/01.png\">\n",
    "    </p>\n",
    "    \n",
    "\n",
    "> Flowchart diatas digunakan untuk menentukan bilangan ganjil/genap, selanjutnya kita akan membuat programnya berdasarkan\n",
    "> flowchart di atas!\n",
    "\n",
    "2. Tambahkan library Scanner, deklarasi Scanner, dan buat variabel bil untuk menampung data yang diinput melalui keyboard\n",
    "\n",
    "    ![](images/03.png)"
   ]
  },
  {
   "cell_type": "code",
   "execution_count": 2,
   "metadata": {
    "pycharm": {
     "name": "#%%\n"
    }
   },
   "outputs": [
    {
     "name": "stdout",
     "output_type": "stream",
     "text": [
      "Masukan sebuah bilangan : 10\n"
     ]
    }
   ],
   "source": [
    "// Ketik kode program di atas di bawah sini\n",
    "import java.util.Scanner;\n",
    "Scanner input = new Scanner(System.in);\n",
    "int bil;\n",
    "System.out.print(\"Masukan sebuah bilangan : \");\n",
    "bil = input.nextInt();"
   ]
  },
  {
   "cell_type": "markdown",
   "metadata": {},
   "source": [
    "3. Buatlah struktur kondisi untuk mengecek apakah bilangan tersebut merupakan bilangan genap atau ganjil\n",
    "\n",
    "    ![](images/04.png)"
   ]
  },
  {
   "cell_type": "code",
   "execution_count": 2,
   "metadata": {},
   "outputs": [
    {
     "name": "stdout",
     "output_type": "stream",
     "text": [
      "Bilangan Genap\n"
     ]
    }
   ],
   "source": [
    "// Ketik kode program di atas di bawah sini\n",
    "if(bil%2 == 0){\n",
    "    System.out.println(\"Bilangan Genap\");\n",
    "}else{\n",
    "    System.out.println(\"Bilangan Ganjil\");\n",
    "}"
   ]
  },
  {
   "cell_type": "markdown",
   "metadata": {},
   "source": [
    "> Kode diatas merupakan program untuk menentukan bilangan ganjil atau genap dengan menggunakan percabangan. Jika sisa hasil bagi bilangan dengan 2 adalah 0 maka bilangan tersebut adalah bilangan genap jika tidak maka bilangan tersebut adalah bilangan ganjil. \n",
    "\n"
   ]
  },
  {
   "cell_type": "markdown",
   "metadata": {},
   "source": [
    "##### Pertanyaan\n",
    "1. Modifikasi program diatas dibagian struktur pemilihannya sehingga menjadi sebagai berikut:\n",
    "\n",
    "    ![](images/05.png)"
   ]
  },
  {
   "cell_type": "code",
   "execution_count": 3,
   "metadata": {},
   "outputs": [
    {
     "name": "stdout",
     "output_type": "stream",
     "text": [
      "Bilangan Genap\n"
     ]
    }
   ],
   "source": [
    "// Ketik kode program di atas di bawah sini\n",
    "String output = (bil % 2 == 0) ? \"Bilangan Genap\":\"Bilangan Ganjil\";\n",
    "System.out.println(output);"
   ]
  },
  {
   "cell_type": "markdown",
   "metadata": {},
   "source": [
    "2. Jalankan dan amatilah hasilnya!\n",
    "3. Jelaskan mengapa output program yang dimodifikasi sama dengan output program sebelum dimodifikasi!"
   ]
  },
  {
   "cell_type": "markdown",
   "metadata": {},
   "source": [
    "> Karena kode program diatas sama saja dengan kode program sebelumnya, hanya saja disini menggunakan ternary operator untuk menentukan perkondisian. Ternary operator dapat digunakan untuk menggantikan if else"
   ]
  },
  {
   "cell_type": "markdown",
   "metadata": {},
   "source": [
    "#### Percobaan 2 : Penggunaan if else\n",
    "\n",
    "#### Waktu percobaan : 40 menit\n",
    "\n",
    "+ Buatlah sebuah variabel nilai untuk menyimpan inputan dari keyboard\n",
    "\n",
    "    ![](images/06.png)"
   ]
  },
  {
   "cell_type": "code",
   "execution_count": 4,
   "metadata": {},
   "outputs": [
    {
     "name": "stdout",
     "output_type": "stream",
     "text": [
      "Masukkan sebuah bilangan : 10\n"
     ]
    }
   ],
   "source": [
    "// Ketik kode program di atas di bawah sini\n",
    "int nilai;\n",
    "System.out.print(\"Masukkan sebuah bilangan : \");\n",
    "nilai = input.nextInt();"
   ]
  },
  {
   "cell_type": "markdown",
   "metadata": {},
   "source": [
    "+ Tambahkan sebuah kondisi untuk mengecek input pada variabel nilai\n",
    "\n",
    "    ![](images/07.png)"
   ]
  },
  {
   "cell_type": "code",
   "execution_count": 5,
   "metadata": {},
   "outputs": [
    {
     "name": "stdout",
     "output_type": "stream",
     "text": [
      "Hasil akhir nilai adalah 0\n"
     ]
    }
   ],
   "source": [
    "// Ketik kode program di atas di bawah sini\n",
    "if(nilai >= 100){\n",
    "    nilai += 10;\n",
    "}else{\n",
    "    nilai -= 10;\n",
    "}\n",
    "System.out.println(\"Hasil akhir nilai adalah \"+nilai);"
   ]
  },
  {
   "cell_type": "markdown",
   "metadata": {},
   "source": [
    "+ Jalankan program. Amati apa yang terjadi!"
   ]
  },
  {
   "cell_type": "markdown",
   "metadata": {},
   "source": [
    "> Jika nilai yang kita masukkan lebih dari sama dngan 100 maka nilai akan ditambah 10 dengan menggunakan operator assignment. Jika kecuali itu maka nilai akan dikurangi 10.\n",
    "\n"
   ]
  },
  {
   "cell_type": "markdown",
   "metadata": {},
   "source": [
    "##### Pertanyaan\n",
    "1. Jelaskan fungsi kode program berikut:\n",
    "    \n",
    "    ```\n",
    "    nilai+=10;\n",
    "    nilai-=10;\n",
    "    ```\n",
    "\n",
    "2. Modifikasilah program diatas dimana inputannya yang awalnya hanya satu kemudian diganti 2 inputan (misal : nilai1 dan nilai2), lakukan perhitungan rata-rata kedua nilai tersebut jika nilainya lebih dari sama dengan 100 maka dikurangi 5, sedangkan jika nilai rata-rata tersebut kurang dari 100 maka akan langsung dicetak!"
   ]
  },
  {
   "cell_type": "markdown",
   "metadata": {},
   "source": [
    "> 1. kode program diatas merupakan assignment operator yang digunakan untuk menambah atau mengurangi variable nilai\n",
    "> 2."
   ]
  },
  {
   "cell_type": "code",
   "execution_count": 3,
   "metadata": {},
   "outputs": [
    {
     "name": "stdout",
     "output_type": "stream",
     "text": [
      "Masukkan nilai pertama : 10\n",
      "Masukkan nilai kedua : 20\n"
     ]
    }
   ],
   "source": [
    "double nilai1, nilai2, average;\n",
    "System.out.print(\"Masukkan nilai pertama : \");\n",
    "nilai1 = input.nextDouble();\n",
    "System.out.print(\"Masukkan nilai kedua : \");\n",
    "nilai2 = input.nextDouble();\n",
    "average=(nilai1 + nilai2) / 2;"
   ]
  },
  {
   "cell_type": "code",
   "execution_count": 4,
   "metadata": {},
   "outputs": [
    {
     "ename": "CompilationException",
     "evalue": "",
     "output_type": "error",
     "traceback": [
      "\u001b[1m\u001b[30m|   \u001b[1m\u001b[30maverage >= 100 ? average -= 5: \u001b[0m\u001b[1m\u001b[30m\u001b[41m\u001b[0m\u001b[1m\u001b[30m;\u001b[0m",
      "\u001b[1m\u001b[31millegal start of expression\u001b[0m",
      ""
     ]
    }
   ],
   "source": [
    "if(average >= 100)average -= 5;\n",
    "average >= 100 ? average -= 5: '' ;\n",
    "System.out.println(\"Hasil akhir rata-rata adalah \" + average);"
   ]
  },
  {
   "cell_type": "markdown",
   "metadata": {},
   "source": [
    "#### Percobaan 3 : Penggunaan if else-if else\n",
    "\n",
    "#### Waktu percobaan : 40 menit\n",
    "\n",
    "+ Tambahakan library `Scanner`\n",
    "+ Buatlah deklarasi `Scanner`\n",
    "+ Buat variabel umur bertipe `int`\n",
    "\n",
    "    ![](images/08.png)"
   ]
  },
  {
   "cell_type": "code",
   "execution_count": 8,
   "metadata": {},
   "outputs": [
    {
     "name": "stdout",
     "output_type": "stream",
     "text": [
      "Masukan umur Anda : 20\n"
     ]
    }
   ],
   "source": [
    "// Ketik kode program di atas di bawah sini\n",
    "int umur;\n",
    "System.out.print(\"Masukan umur Anda : \");\n",
    "umur = input.nextInt();"
   ]
  },
  {
   "cell_type": "markdown",
   "metadata": {},
   "source": [
    "+ Kode untuk melakukan pengecekan variabel `umur`\n",
    "\n",
    "    ![](images/09.png)"
   ]
  },
  {
   "cell_type": "code",
   "execution_count": 9,
   "metadata": {},
   "outputs": [
    {
     "name": "stdout",
     "output_type": "stream",
     "text": [
      "Dewasa\n"
     ]
    }
   ],
   "source": [
    "// Ketik kode program di atas di bawah sini\n",
    "if(umur > 60)\n",
    "    System.out.println(\"Lansia\");\n",
    "else if(umur > 45)\n",
    "    System.out.println(\"Tua\");\n",
    "else if(umur > 17)\n",
    "    System.out.println(\"Dewasa\");\n",
    "else if(umur > 5)\n",
    "    System.out.println(\"Anak-anak\");\n",
    "else\n",
    "    System.out.println(\"Balita\");"
   ]
  },
  {
   "cell_type": "markdown",
   "metadata": {},
   "source": [
    "+ Jalankan program dan amati apa yang terjadi!"
   ]
  },
  {
   "cell_type": "markdown",
   "metadata": {},
   "source": [
    "##### Percobaan 4 : Penggunaan switch-case\n",
    "\n",
    "#### Waktu percobaan : 40 menit\n",
    "\n",
    "1. Deklarasikan Scanner\n",
    "1. Buatlah variabel-variabel berikut\n",
    "\n",
    "    ![](images/10.png)"
   ]
  },
  {
   "cell_type": "code",
   "execution_count": 10,
   "metadata": {},
   "outputs": [],
   "source": [
    "// Ketik kode program di atas di bawah sini\n",
    "Scanner sc = new Scanner(System.in);\n",
    "double angka1, angka2, hasil;\n",
    "char operator;"
   ]
  },
  {
   "cell_type": "markdown",
   "metadata": {},
   "source": [
    "3. Kode program untuk meminta inputan dari keyboard\n",
    "\n",
    "    ![](images/11.png)"
   ]
  },
  {
   "cell_type": "code",
   "execution_count": 11,
   "metadata": {},
   "outputs": [
    {
     "name": "stdout",
     "output_type": "stream",
     "text": [
      "Masukkan angka pertama : 10\n",
      "Masukkan angka kedua : 20\n",
      "Masukkan operator (+ - * /) : +\n"
     ]
    }
   ],
   "source": [
    "// Ketik kode program di atas di bawah sini\n",
    "System.out.print(\"Masukkan angka pertama : \");\n",
    "angka1 = sc.nextDouble();\n",
    "System.out.print(\"Masukkan angka kedua : \");\n",
    "angka2 = sc.nextDouble();\n",
    "System.out.print(\"Masukkan operator (+ - * /) : \");\n",
    "operator = sc.next().charAt(0);"
   ]
  },
  {
   "cell_type": "markdown",
   "metadata": {},
   "source": [
    "> Kode diatas digunakan untuk mengambil inputan user yang dimana adalah variable angka1,angka2 dnegan inputan double dan operator dengan inputan text namun, hanya mengambil char pertamanya saja.\n",
    "\n"
   ]
  },
  {
   "cell_type": "markdown",
   "metadata": {},
   "source": [
    "4. Kode di bawah ini untuk melakukan pengecekan operator yang digunakan sebelum dilakukan operasi aritmatika\n",
    "\n",
    "    ![](images/12.png)"
   ]
  },
  {
   "cell_type": "code",
   "execution_count": 12,
   "metadata": {},
   "outputs": [
    {
     "name": "stdout",
     "output_type": "stream",
     "text": [
      "10.0 + 20.0 = 30.0\n"
     ]
    }
   ],
   "source": [
    "// Ketik kode program di atas di bawah sini\n",
    "switch(operator){\n",
    "    case '+':\n",
    "        hasil = angka1 + angka2;\n",
    "        System.out.println(angka1 + \" + \" + angka2 + \" = \" + hasil);\n",
    "        break;\n",
    "    case '-':\n",
    "        hasil = angka1 - angka2;\n",
    "        System.out.println(angka1 + \" - \" + angka2 + \" = \" + hasil);\n",
    "        break;\n",
    "    case '*':\n",
    "        hasil = angka1 * angka2;\n",
    "        System.out.println(angka1 + \" * \" + angka2 + \" = \" + hasil);\n",
    "        break;\n",
    "    case '/':\n",
    "        hasil = angka1 / angka2;\n",
    "        System.out.println(angka1 + \" / \" + angka2 + \" = \" + hasil);\n",
    "        break;\n",
    "    default:\n",
    "        System.out.println(\"Operator yang Anda masukkan salah\");\n",
    "}"
   ]
  },
  {
   "cell_type": "markdown",
   "metadata": {},
   "source": [
    "5. Jalankan program. Amati apa yang terjadi!"
   ]
  },
  {
   "cell_type": "markdown",
   "metadata": {},
   "source": [
    "> Jika kita memasukkan operator yang sesuai dengan case-case pada switch maka akan akan dieksekusi sesuai dengan program yang terdapat pada masing-masing case, jika inputan operator salah maka akan menggunakan default.\n",
    "\n"
   ]
  },
  {
   "cell_type": "markdown",
   "metadata": {},
   "source": [
    "##### Pertanyaan\n",
    "1. Jelaskan fungsi dari break dan default pada percobaan 4 diatas!\n",
    "2. Jelaskan fungsi perintah kode program dibawah ini pada percobaan 4!\n",
    "\n",
    "    ```\n",
    "    operator = sc.next().chartAt(0);\n",
    "    ```"
   ]
  },
  {
   "cell_type": "markdown",
   "metadata": {},
   "source": [
    "> 1. Break digunakan untuk mengakhiri switch sehingga setelah mengeksekusi kode pada case maka tidak akan mengeksekusi kode setelah dari break tersebut dan langsung keluar dari switch.\n",
    "Default akan digunakan jika nilai switch tidak sesuai dengan case yang ada.\n",
    "> 2. kode diatas digunakan untuk mengisi variable operator dengan inputan 1 kata String dari user dengan mengambil char pertamanya saja. \n",
    "\n"
   ]
  },
  {
   "cell_type": "markdown",
   "metadata": {},
   "source": [
    "### Tugas\n",
    "\n",
    "#### Waktu pengerjaan Tugas: 140 menit\n",
    "\n",
    "1. Buatlah program untuk menginputkan dua buah bilangan bulat, kemudian mencetak salah satu bilangan yang nilainya terbesar.\n"
   ]
  },
  {
   "cell_type": "code",
   "execution_count": 13,
   "metadata": {},
   "outputs": [
    {
     "name": "stdout",
     "output_type": "stream",
     "text": [
      "Masukan bilangan 1 : 20\n",
      "Masukan bilangan 2 : 40\n",
      "Bilangan yang terbesar adalah 40\n"
     ]
    }
   ],
   "source": [
    "//ketik kode program dan lampirkan hasilnya di sini\n",
    "int bilangan1, bilangan2;\n",
    "System.out.print(\"Masukan bilangan 1 : \");\n",
    "bilangan1 = sc.nextInt();\n",
    "System.out.print(\"Masukan bilangan 2 : \");\n",
    "bilangan2 = sc.nextInt();\n",
    "System.out.println(\"Bilangan yang terbesar adalah \" + (bilangan1 > bilangan2 ? bilangan1:bilangan2));"
   ]
  },
  {
   "cell_type": "markdown",
   "metadata": {},
   "source": [
    "2. Perhatikan flowchart berikut ini:\n",
    "\n",
    "![](images/02.png)\n",
    "\n",
    "> Buatlah program sesuai dengan flowchart diatas!"
   ]
  },
  {
   "cell_type": "code",
   "execution_count": 14,
   "metadata": {},
   "outputs": [
    {
     "name": "stdout",
     "output_type": "stream",
     "text": [
      "Masukan umur : 10\n",
      "Tidak boleh berkendara\n"
     ]
    }
   ],
   "source": [
    "//ketik kode program dan lampirkan hasilnya di sini\n",
    "System.out.print(\"Masukan umur : \");\n",
    "int umur = sc.nextInt();\n",
    "if(umur >= 17)\n",
    "    System.out.println(\"Boleh berkendara\");\n",
    "else\n",
    "    System.out.println(\"Tidak boleh berkendara\");"
   ]
  },
  {
   "cell_type": "markdown",
   "metadata": {},
   "source": [
    "3. Pada akhir semester seorang dosen menghitung nilai akhir dari mahasiswa yang terdiri dari nilai uas, uts, kuis, dan tugas. Nilai akhir didapatkan dari 40% nilai uas, 30% nilai uts, 10% nilai kuis, dan 20% nilai tugas. Jika nilai akhir dari mahasiswa dibawah 65 maka mahasiswa tersebut akan mendapatkan remidi. Buatlah program untuk membantu mengetahui mahasiswa yang mendapatkan remidi berdasarkan nilai akhir yang didapatkannya!"
   ]
  },
  {
   "cell_type": "code",
   "execution_count": 15,
   "metadata": {},
   "outputs": [
    {
     "name": "stdout",
     "output_type": "stream",
     "text": [
      "Masukkan nilai UAS : \n",
      "100\n",
      "Masukkan nilai UTS : \n",
      "80\n",
      "Masukkan nilai Kuis : \n",
      "70\n",
      "Masukkan nilai Tugas : \n",
      "70\n",
      "Nilai akhir Anda : 85.0\n",
      "Selamat Anda lulus\n"
     ]
    }
   ],
   "source": [
    "//ketik kode program dan lampirkan hasilnya di sini\n",
    "double nilaiUas,nilaiUts,nilaiKuis,nilaiTugas,nilaiAkhir;\n",
    "\n",
    "System.out.println(\"Masukkan nilai UAS : \");\n",
    "nilaiUas = sc.nextDouble();\n",
    "System.out.println(\"Masukkan nilai UTS : \");\n",
    "nilaiUts = sc.nextDouble();\n",
    "System.out.println(\"Masukkan nilai Kuis : \");\n",
    "nilaiKuis = sc.nextDouble();\n",
    "System.out.println(\"Masukkan nilai Tugas : \");\n",
    "nilaiTugas = sc.nextDouble();\n",
    "\n",
    "nilaiAkhir = ((nilaiUas * 0.4)+(nilaiUts*0.3)+(nilaiKuis*0.1)+(nilaiTugas*0.2));\n",
    "System.out.println(\"Nilai akhir Anda : \" + nilaiAkhir);\n",
    "\n",
    "if(nilaiAkhir >= 65)\n",
    "    System.out.println(\"Selamat Anda lulus\");\n",
    "else\n",
    "    System.out.println(\"Yah Anda harus remidi dulu ya\");"
   ]
  },
  {
   "cell_type": "markdown",
   "metadata": {},
   "source": [
    "4. Sebuah toko memberikan diskon kepada pelanggannya dengan ketentuan sebagai berikut:\n",
    "\n",
    "| Total Belanja     | Potongan |\n",
    "|-------------------|----------|\n",
    "| >Rp. 200.000,00   | 2%       |\n",
    "| >Rp. 500.000,00   | 5%       |\n",
    "| >Rp. 1.000.000,00 | 10%      |\n",
    "\n",
    "> Total belanja diperoleh dari pembelian tiga barang yaitu barang A, barang B, dan barang C. Ketika menginputkan harga barang juga menginputkan jumlah barang yang dibeli.\n",
    "\n",
    "Contoh outputnya\n",
    "```\n",
    "Masukkan harga barang A   :100000\n",
    "Masukkan jumlah barang A  :10\n",
    "Masukkan harga barang B   :250000\n",
    "Masukkan jumlah barang B  :5\n",
    "Masukkan harga barang C   :150000\n",
    "Masukkan jumlah barang C  :1\n",
    "---------------------------------------------\n",
    "                Struk total\n",
    "---------------------------------------------\n",
    "Nama Barang \t| \tHarga \t| \tJumlah \t| \tTotal\n",
    "Barang A            100000         10        1000000   \n",
    "Barang B            250000         5         1250000   \n",
    "Barang C            150000         1         150000    \n",
    "Total       :2400000\n",
    "Diskon      :240000.0\n",
    "Total Bayar :2160000.0\n",
    "```"
   ]
  },
  {
   "cell_type": "code",
   "execution_count": 16,
   "metadata": {},
   "outputs": [
    {
     "name": "stdout",
     "output_type": "stream",
     "text": [
      "Masukkan harga barang A  : 100000\n",
      "Masukkan jumlah barang A : 10\n",
      "Masukkan harga barang B  : 250000\n",
      "Masukkan jumlah barang B : 5\n",
      "Masukkan harga barang C  : 150000\n",
      "Masukkan jumlah barang C : 1\n",
      "---------------------------\n",
      "        Struk Total        \n",
      "---------------------------\n",
      "Nama Barang\t|   Harga   |   Jumlah   |   Total   \n",
      "Barang A           100000          10         1000000\n",
      "Barang B           250000           5         1250000\n",
      "Barang C           150000           1          150000\n",
      "Total\t\t :2400000\n",
      "Diskon\t\t :240000.0\n",
      "Total Bayar\t :2160000.0\n"
     ]
    }
   ],
   "source": [
    "//ketik kode program dan lampirkan hasilnya di sini\n",
    "long hargaBarangA,hargaBarangB,hargaBarangC,totalBarangA,totalBarangB,totalBarangC,total;\n",
    "int jumlahBarangA,jumlahBarangB,jumlahBarangC;\n",
    "double diskon,totalAkhir;\n",
    "\n",
    "System.out.print(\"Masukkan harga barang A  : \");\n",
    "hargaBarangA = sc.nextLong();\n",
    "System.out.print(\"Masukkan jumlah barang A : \");\n",
    "jumlahBarangA = sc.nextInt();\n",
    "System.out.print(\"Masukkan harga barang B  : \");\n",
    "hargaBarangB = sc.nextLong();\n",
    "System.out.print(\"Masukkan jumlah barang B : \");\n",
    "jumlahBarangB = sc.nextInt();\n",
    "System.out.print(\"Masukkan harga barang C  : \");\n",
    "hargaBarangC = sc.nextLong();\n",
    "System.out.print(\"Masukkan jumlah barang C : \");\n",
    "jumlahBarangC = sc.nextInt();\n",
    "\n",
    "totalBarangA = hargaBarangA * jumlahBarangA;\n",
    "totalBarangB = hargaBarangB * jumlahBarangB;\n",
    "totalBarangC = hargaBarangC * jumlahBarangC;\n",
    "total = totalBarangA+totalBarangB+totalBarangC;\n",
    "\n",
    "if(total>1000000)\n",
    "    diskon = total*0.1;\n",
    "else if(total>500000)\n",
    "    diskon = total*0.05;\n",
    "else if(total>200000)\n",
    "    diskon = (double)total*0.02;\n",
    "\n",
    "totalAkhir = total - diskon;\n",
    "System.out.println(\"---------------------------\");\n",
    "System.out.println(\"        Struk Total        \");\n",
    "System.out.println(\"---------------------------\");\n",
    "\n",
    "System.out.println(\"Nama Barang\\t|   Harga   |   Jumlah   |   Total   \");\n",
    "System.out.println(String.format(\"Barang A %16s%12s%16s\",hargaBarangA,jumlahBarangA,totalBarangA));\n",
    "System.out.println(String.format(\"Barang B %16s%12s%16s\",hargaBarangB,jumlahBarangB,totalBarangB));\n",
    "System.out.println(String.format(\"Barang C %16s%12s%16s\",hargaBarangC,jumlahBarangC,totalBarangC));\n",
    "System.out.println(\"Total\\t\\t :\"+total);\n",
    "System.out.println(String.format(\"Diskon\\t\\t :%.1f\",diskon));\n",
    "System.out.println(String.format(\"Total Bayar\\t :%.1f\",totalAkhir));"
   ]
  }
 ],
 "metadata": {
  "kernelspec": {
   "display_name": "Java",
   "language": "java",
   "name": "java"
  },
  "language_info": {
   "codemirror_mode": "java",
   "file_extension": ".jshell",
   "mimetype": "text/x-java-source",
   "name": "Java",
   "pygments_lexer": "java",
   "version": "11.0.12+7"
  },
  "nteract": {
   "version": "nteract-on-jupyter@2.1.3"
  }
 },
 "nbformat": 4,
 "nbformat_minor": 1
}
