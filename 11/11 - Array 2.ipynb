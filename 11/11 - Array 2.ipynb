{
 "cells": [
  {
   "cell_type": "markdown",
   "metadata": {},
   "source": [
    "# JOBSHEET 11. ARRAY 2"
   ]
  },
  {
   "cell_type": "markdown",
   "metadata": {},
   "source": [
    "## Tujuan\n",
    "* Mahasiswa mampu memahami pembuatan array dua dimensi\n",
    "* Mahasiswa mampu menyelesaikan studi kasus dengan memanfaatkan array dua dimensi"
   ]
  },
  {
   "cell_type": "markdown",
   "metadata": {},
   "source": [
    "## Alat dan Bahan\n",
    "* PC/Laptop\n",
    "* Browser\n",
    "* Koneksi internet\n",
    "* Anaconda3 + Java kernel (opsional)"
   ]
  },
  {
   "cell_type": "markdown",
   "metadata": {},
   "source": [
    "## Praktikum"
   ]
  },
  {
   "cell_type": "markdown",
   "metadata": {},
   "source": [
    "### Percobaan 1: Deklarasi, Inisialisasi, dan Menampilkan Array 2 Dimensi\n",
    "Pada Percobaan 1, kode program yang dibuat digunakan untuk menyimpan nilai praktikum dari 2 orang mahasiswa pada 3 mata kuliah yang berbeda.\n",
    "1.\tBuat array bertipe **integer** dengan nama **nilai** dengan kapasitas baris 2 elemen (menyatakan jumlah mahasiswa) dan kolom 3 elemen (menyatakan jumlah mata kuliah)\n",
    "![Gambar 1](images/percobaan1-1.PNG)"
   ]
  },
  {
   "cell_type": "code",
   "execution_count": 1,
   "metadata": {},
   "outputs": [],
   "source": [
    "// Tuliskan kode program Percobaan 1 Langkah 1\n",
    "int[][] nilai = new int[2][3];"
   ]
  },
  {
   "cell_type": "markdown",
   "metadata": {},
   "source": [
    "2. Isi masing-masing elemen array **nilai** sebagai berikut:\n",
    "![Gambar 2](images/percobaan1-2.PNG)"
   ]
  },
  {
   "cell_type": "code",
   "execution_count": 2,
   "metadata": {},
   "outputs": [
    {
     "data": {
      "text/plain": [
       "67"
      ]
     },
     "execution_count": 2,
     "metadata": {},
     "output_type": "execute_result"
    }
   ],
   "source": [
    "// Tuliskan kode program Percobaan 1 Langkah 2\n",
    "nilai[0][0] = 75;\n",
    "nilai[0][1] = 90;\n",
    "nilai[0][2] = 88;\n",
    "nilai[1][0] = 79;\n",
    "nilai[1][1] = 82;\n",
    "nilai[1][2] = 67;"
   ]
  },
  {
   "cell_type": "markdown",
   "metadata": {},
   "source": [
    "3. Tampilkan semua isi elemen array **nilai**\n",
    "![Gambar 3](images/percobaan1-3.PNG)"
   ]
  },
  {
   "cell_type": "code",
   "execution_count": 7,
   "metadata": {},
   "outputs": [
    {
     "name": "stdout",
     "output_type": "stream",
     "text": [
      "75 90 88\n",
      "79 82 67\n"
     ]
    }
   ],
   "source": [
    "// Tuliskan kode program Percobaan 1 Langkah 2\n",
    "System.out.println(nilai[0][0] + \" \" + nilai[0][1] + \" \" + nilai[0][2]);\n",
    "System.out.println(nilai[1][0] + \" \" + nilai[1][1] + \" \" + nilai[1][2]);"
   ]
  },
  {
   "cell_type": "markdown",
   "metadata": {},
   "source": [
    "#### Pertanyaan\n",
    "1. Apakah pengisian elemen array harus dilakukan secara berurutan mulai dari indeks 0? Jelaskan!"
   ]
  },
  {
   "cell_type": "markdown",
   "metadata": {},
   "source": [
    "// Tuliskan jawaban nomor 1\n",
    "> tidak, kita dapat mengisi elemen array pada index manapun tidak selalu mulai dari indeks 0"
   ]
  },
  {
   "cell_type": "markdown",
   "metadata": {},
   "source": [
    "2. Lakukan modifikasi pada Percobaan 1 Langkah 3 untuk menampilkan semua isi elemen array **nilai** menggunakan perulangan *for*"
   ]
  },
  {
   "cell_type": "code",
   "execution_count": 8,
   "metadata": {},
   "outputs": [
    {
     "name": "stdout",
     "output_type": "stream",
     "text": [
      "75 90 88 \n",
      "79 82 67 \n"
     ]
    }
   ],
   "source": [
    "// Tuliskan jawaban nomor 2\n",
    "for(int[] nums:nilai){\n",
    "    for(int num:nums){\n",
    "        System.out.print(num+\" \");\n",
    "    }\n",
    "    System.out.println();\n",
    "}"
   ]
  },
  {
   "cell_type": "markdown",
   "metadata": {},
   "source": [
    "### Percobaan 2: Mengisi Elemen Array 2 Dimensi Menggunakan Input Keyboard\n",
    "Pada Percobaan 2, kode program yang dibuat digunakan untuk menyimpan nilai rating restoran yang terdaftar pada aplikasi pemesanan makanan online. Rating diberikan oleh 4 orang pengguna kepada 2 restoran yang terdaftar.\n",
    "1. Import dan deklarasikan Scanner dengan nama **sc**\n",
    "![Gambar 4](images/percobaan2-1.jpg)"
   ]
  },
  {
   "cell_type": "code",
   "execution_count": 9,
   "metadata": {},
   "outputs": [],
   "source": [
    "// Tuliskan kode program Percobaan 2 Langkah 1\n",
    "import java.util.Scanner;\n",
    "Scanner sc = new Scanner(System.in);"
   ]
  },
  {
   "cell_type": "markdown",
   "metadata": {},
   "source": [
    "2.\tBuat array bertipe **integer** dengan nama **rating** dengan kapasitas baris 4 elemen (menyatakan jumlah pengguna) dan kolom 2 elemen (menyatakan jumlah restoran)\n",
    "![Gambar 5](images/percobaan2-2.PNG)"
   ]
  },
  {
   "cell_type": "code",
   "execution_count": 10,
   "metadata": {},
   "outputs": [],
   "source": [
    "// Tuliskan kode program Percobaan 2 Langkah 2\n",
    "int[][] rating = new int[4][2];"
   ]
  },
  {
   "cell_type": "markdown",
   "metadata": {},
   "source": [
    "3. Dengan menggunakan perulangan *for*, buat input untuk mengisi elemen array **rating**\n",
    "![Gambar 6](images/percobaan2-3.PNG)"
   ]
  },
  {
   "cell_type": "code",
   "execution_count": 12,
   "metadata": {},
   "outputs": [
    {
     "name": "stdout",
     "output_type": "stream",
     "text": [
      "Masukkan rating pengguna 0 untuk restoran 0 : 1\n",
      "Masukkan rating pengguna 0 untuk restoran 1 : 2\n",
      "\n",
      "Masukkan rating pengguna 1 untuk restoran 0 : 3\n",
      "Masukkan rating pengguna 1 untuk restoran 1 : 4\n",
      "\n",
      "Masukkan rating pengguna 2 untuk restoran 0 : 5\n",
      "Masukkan rating pengguna 2 untuk restoran 1 : 6\n",
      "\n",
      "Masukkan rating pengguna 3 untuk restoran 0 : 7\n",
      "Masukkan rating pengguna 3 untuk restoran 1 : 8\n",
      "\n"
     ]
    }
   ],
   "source": [
    "// Tuliskan kode program Percobaan 2 Langkah 3\n",
    "for(int i = 0;i < rating.length;i++){\n",
    "    for(int j = 0;j < rating[0].length;j++){\n",
    "        System.out.print(\"Masukkan rating pengguna \" + i + \" untuk restoran \" + j + \" : \");\n",
    "        rating[i][j] = sc.nextInt();\n",
    "    }\n",
    "    System.out.println(\"\");\n",
    "}"
   ]
  },
  {
   "cell_type": "markdown",
   "metadata": {},
   "source": [
    "4. Dengan menggunakan perulangan *for-each*, tampilkan semua isi elemen dari array **rating**\n",
    "![Gambar 7](images/percobaan2-4.PNG)"
   ]
  },
  {
   "cell_type": "code",
   "execution_count": 14,
   "metadata": {},
   "outputs": [
    {
     "name": "stdout",
     "output_type": "stream",
     "text": [
      "1 2 \n",
      "3 4 \n",
      "5 6 \n",
      "7 8 \n"
     ]
    }
   ],
   "source": [
    "// Tuliskan kode program Percobaan 2 Langkah 4\n",
    "for(int[] rtg:rating){\n",
    "    for(int r:rtg){\n",
    "        System.out.print(r+\" \");\n",
    "    }\n",
    "    System.out.println(\"\");\n",
    "}"
   ]
  },
  {
   "cell_type": "markdown",
   "metadata": {},
   "source": [
    "#### Pertanyaan\n",
    "1. Pada Percobaan 2 Langkah 3, dapatkah posisi i ditukar dengan posisi j? Jelaskan alasannya!"
   ]
  },
  {
   "cell_type": "markdown",
   "metadata": {},
   "source": [
    "// Tuliskan jawaban nomor 1\n",
    "> Jika posisi i dan j ditukar maka akan menimbulkan error dikarenakan pengisian elemen array tidak sesuai dengan indeksnya"
   ]
  },
  {
   "cell_type": "markdown",
   "metadata": {},
   "source": [
    "2. Tambahkan kode program untuk menentukan banyaknya baris dan kolom elemen array secara dinamis (baris dan kolom ditentukan saat program berjalan melalui input keyboard)!"
   ]
  },
  {
   "cell_type": "code",
   "execution_count": 15,
   "metadata": {},
   "outputs": [
    {
     "name": "stdout",
     "output_type": "stream",
     "text": [
      "Masukkan banyak baris : 2\n",
      "Masukkan banyak kolom : 2\n",
      "Masukkan rating pengguna 0 untuk restoran 0 : 1\n",
      "Masukkan rating pengguna 0 untuk restoran 1 : 2\n",
      "\n",
      "Masukkan rating pengguna 1 untuk restoran 0 : 3\n",
      "Masukkan rating pengguna 1 untuk restoran 1 : 4\n",
      "\n",
      "1 2 \n",
      "3 4 \n"
     ]
    }
   ],
   "source": [
    "// Tuliskan jawaban nomor 2\n",
    "System.out.print(\"Masukkan banyak baris : \");\n",
    "int baris = sc.nextInt();\n",
    "System.out.print(\"Masukkan banyak kolom : \");\n",
    "int kolom = sc.nextInt();\n",
    "\n",
    "int[][] rating = new int[baris][kolom];\n",
    "\n",
    "for(int i = 0;i < rating.length;i++){\n",
    "    for(int j = 0;j < rating[0].length;j++){\n",
    "        System.out.print(\"Masukkan rating pengguna \" + i + \" untuk restoran \" + j + \" : \");\n",
    "        rating[i][j] = sc.nextInt();\n",
    "    }\n",
    "    System.out.println(\"\");\n",
    "}\n",
    "\n",
    "for(int[] rtg:rating){\n",
    "    for(int r:rtg){\n",
    "        System.out.print(r+\" \");\n",
    "    }\n",
    "    System.out.println(\"\");\n",
    "}"
   ]
  },
  {
   "cell_type": "markdown",
   "metadata": {},
   "source": [
    "### Percobaan 3: Melakukan Operasi Aritmatika pada Elemen Array 2 Dimensi\n",
    "Pada Percobaan 3, kode program yang dibuat digunakan untuk menghitung nilai rata-rata harga setiap bahan pokok selama 1 semester. Terdapat 3 bahan pokok yang dicatat harganya setiap akhir bulan. Program dibuat berdasarkan flowchart berikut.\n",
    "![Gambar 8](images/percobaan3.jpg)\n",
    "1. Import dan deklarasikan Scanner dengan nama **sc**\n",
    "![Gambar 9](images/percobaan3-1.jpg)"
   ]
  },
  {
   "cell_type": "code",
   "execution_count": 3,
   "metadata": {},
   "outputs": [],
   "source": [
    " // Tuliskan kode program Percobaan 3 Langkah 1\n",
    "import java.util.Scanner;\n",
    "Scanner sc = new Scanner(System.in);"
   ]
  },
  {
   "cell_type": "markdown",
   "metadata": {},
   "source": [
    "2.\tBuat array bertipe **integer** dengan nama **harga** dengan kapasitas baris 3 elemen (menyatakan jumlah bahan pokok) dan kolom 6 elemen (menyatakan jumlah bulan). Deklarasikan juga variabel **total** dan **rata** bertipe **double**\n",
    "![Gambar 10](images/percobaan3-2.PNG)"
   ]
  },
  {
   "cell_type": "code",
   "execution_count": 4,
   "metadata": {},
   "outputs": [],
   "source": [
    "// Tuliskan kode program Percobaan 3 Langkah 2\n",
    "int[][] harga=new int[3][6];\n",
    "int i,j;\n",
    "double total,rata;"
   ]
  },
  {
   "cell_type": "markdown",
   "metadata": {},
   "source": [
    "3. Dengan menggunakan perulangan *for*, buat input untuk mengisi elemen array **harga**. Kemudian, perhitungan total harga dilakukan untuk setiap bulan (kolom) pada setiap bahan pokok (baris). Setelah itu, nilai rata-rata dihitung untuk setiap bahan pokok (tiap satu baris) dan ditampilkan\n",
    "![Gambar 11](images/percobaan3-3.PNG)"
   ]
  },
  {
   "cell_type": "code",
   "execution_count": 5,
   "metadata": {},
   "outputs": [
    {
     "name": "stdout",
     "output_type": "stream",
     "text": [
      "Masukkan harga [0][0] : 1\n",
      "Masukkan harga [0][1] : 2\n",
      "Masukkan harga [0][2] : 3\n",
      "Masukkan harga [0][3] : 4\n",
      "Masukkan harga [0][4] : 5\n",
      "Masukkan harga [0][5] : 6\n",
      "Rata-rata : 3.5\n",
      "Masukkan harga [1][0] : 7\n",
      "Masukkan harga [1][1] : 8\n",
      "Masukkan harga [1][2] : 9\n",
      "Masukkan harga [1][3] : 10\n",
      "Masukkan harga [1][4] : 11\n",
      "Masukkan harga [1][5] : 12\n",
      "Rata-rata : 9.5\n",
      "Masukkan harga [2][0] : 13\n",
      "Masukkan harga [2][1] : 14\n",
      "Masukkan harga [2][2] : 15\n",
      "Masukkan harga [2][3] : 16\n",
      "Masukkan harga [2][4] : 17\n",
      "Masukkan harga [2][5] : 18\n",
      "Rata-rata : 15.5\n"
     ]
    }
   ],
   "source": [
    "// Tuliskan kode program Percobaan 3 Langkah 3\n",
    "for(i = 0;i< harga.length;i++){\n",
    "    rata =0;\n",
    "    total=0;\n",
    "    for(j = 0;j <harga[0].length;j++){\n",
    "        System.out.printf(\"Masukkan harga [%d][%d] : \",i,j);\n",
    "        harga[i][j] = sc.nextInt();\n",
    "        total += harga[i][j];\n",
    "    }\n",
    "    rata = total / harga[0].length;\n",
    "    System.out.println(\"Rata-rata : \"+rata);\n",
    "}"
   ]
  },
  {
   "cell_type": "markdown",
   "metadata": {},
   "source": [
    "#### Pertanyaan\n",
    "1. Jelaskan fungsi dari **rata = total / harga[0].length**!"
   ]
  },
  {
   "cell_type": "markdown",
   "metadata": {},
   "source": [
    "// Tuliskan jawaban nomor 1\n",
    "> kode diatas berfungsi untuk menghitung rata rata dengan membagi total harga dengan banyaknya harga (panjang kolom per baris)"
   ]
  },
  {
   "cell_type": "markdown",
   "metadata": {},
   "source": [
    "2. Mengapa insialisasi variabel **total = 0** dan **rata = 0** berada di dalam perulangan *for* yang pertama? Menurut Anda, apa yang terjadi jika inisialisasi kedua variabel tersebut diletakkan di luar perulangan *for* (setelah deklarasi array)?"
   ]
  },
  {
   "cell_type": "markdown",
   "metadata": {},
   "source": [
    "// Tuliskan jawaban nomor 2\n",
    "> untuk mereset total dan rata-rata dari masing masing baris. Jika inisialisasi diletakkan diluar perulangan maka total dan rata-rata setiap elemen akan bergabung."
   ]
  },
  {
   "cell_type": "markdown",
   "metadata": {},
   "source": [
    "## Tugas"
   ]
  },
  {
   "cell_type": "markdown",
   "metadata": {},
   "source": [
    "1. Perhatikan flowchart berikut.\n",
    "![Gambar 12](images/tugas-1.jpg)\n",
    "Buat kode program sesuai dengan flowchart tersebut untuk mencari suhu tertinggi yang dicatat dari 5 kota di Jepang selama 7 hari berturut-turut!"
   ]
  },
  {
   "cell_type": "code",
   "execution_count": 24,
   "metadata": {},
   "outputs": [
    {
     "name": "stdout",
     "output_type": "stream",
     "text": [
      "Masukkan suhu [0][0] : 22\n",
      "Masukkan suhu [0][1] : 23\n",
      "Masukkan suhu [0][2] : 23\n",
      "Masukkan suhu [0][3] : 24\n",
      "Masukkan suhu [0][4] : 25\n",
      "Masukkan suhu [0][5] : 24\n",
      "Masukkan suhu [0][6] : 23\n",
      "Masukkan suhu [1][0] : 2\n",
      "Masukkan suhu [1][1] : 3\n",
      "Masukkan suhu [1][2] : 25\n",
      "Masukkan suhu [1][3] : 26\n",
      "Masukkan suhu [1][4] : 23\n",
      "Masukkan suhu [1][5] : 24\n",
      "Masukkan suhu [1][6] : 25\n",
      "Masukkan suhu [2][0] : 25\n",
      "Masukkan suhu [2][1] : 25\n",
      "Masukkan suhu [2][2] : 27\n",
      "Masukkan suhu [2][3] : 277\n",
      "Masukkan suhu [2][4] : 28\n",
      "Masukkan suhu [2][5] : 29\n",
      "Masukkan suhu [2][6] : 19\n",
      "Masukkan suhu [3][0] : 20\n",
      "Masukkan suhu [3][1] : 32\n",
      "Masukkan suhu [3][2] : 32\n",
      "Masukkan suhu [3][3] : 42\n",
      "Masukkan suhu [3][4] : 23\n",
      "Masukkan suhu [3][5] : 52\n",
      "Masukkan suhu [3][6] : 32\n",
      "Masukkan suhu [4][0] : 32\n",
      "Masukkan suhu [4][1] : 42\n",
      "Masukkan suhu [4][2] : 23\n",
      "Masukkan suhu [4][3] : 42\n",
      "Masukkan suhu [4][4] : 42\n",
      "Masukkan suhu [4][5] : 42\n",
      "Masukkan suhu [4][6] : 42\n",
      "Suhu tertinggi adalah : 277.0\n"
     ]
    }
   ],
   "source": [
    "// Tuliskan jawaban nomor 1\n",
    "import java.util.Scanner;\n",
    "Scanner sc = new Scanner(System.in);\n",
    "double[][] suhu =new double[5][7];\n",
    "int x,y;\n",
    "double max = 0;\n",
    "for(x = 0;x < suhu.length;x++){\n",
    "    for(y = 0;y < suhu[0].length;y++){\n",
    "        System.out.printf(\"Masukkan suhu [%d][%d] : \",x,y);\n",
    "        suhu[x][y] = sc.nextInt();\n",
    "        if(suhu[x][y]> max){\n",
    "            max = suhu[x][y];\n",
    "        }\n",
    "    }\n",
    "}\n",
    "System.out.println(\"Suhu tertinggi adalah : \"+max);"
   ]
  },
  {
   "cell_type": "markdown",
   "metadata": {},
   "source": [
    "2. Terdapat hasil pencatatan data lima mahasiswa yang berisi informasi mengenai umur, berat badan (kg), dan tinggi badan (cm). Data tersebut disimpan ke dalam array dua dimensi.\n",
    "![Gambar 13](images/tugas-2.PNG)\n",
    "*Keterangan: penyimpanan nilai dapat dilakukan melalui inisialisasi menggunakan operator assignment*\n",
    " * Tampilkan *berat badan terendah* di antara kelima mahasiswa tersebut\n",
    " * Tampilkan *rata-rata tinggi badan* dari kelima mahasiswa tersebut\n",
    " * Tampilkan nama mahasiswa dengan *umur tertua* di antara kelima mahasiswa tersebut"
   ]
  },
  {
   "cell_type": "code",
   "execution_count": 16,
   "metadata": {},
   "outputs": [
    {
     "name": "stdout",
     "output_type": "stream",
     "text": [
      "Berat badan terendah adalah : Lala (45)\n",
      "Umur Tertua adalah : Beky (20)\n",
      "Rata-rata tinggi : 157.8\n"
     ]
    }
   ],
   "source": [
    "// Tuliskan jawaban nomor 2\n",
    "int[][] data = {{19,51,155},{18,55,163},{18,45,153},{20,46,158},{19,58,160}};\n",
    "String[] nama = {\"Desi\",\"Rofan\",\"Lala\",\"Beky\",\"Ega\"};\n",
    "double rataTinggi,totalTinggi;\n",
    "int minBerat = data[0][1];\n",
    "int maxAge = data[0][0];\n",
    "int keyBerat,keyAge;\n",
    "for(int i=0;i<data.length;i++){\n",
    "    if(data[i][1]<minBerat){\n",
    "        minBerat=data[i][1];\n",
    "        keyBerat=i;\n",
    "    }\n",
    "    if(data[i][0] > maxAge){\n",
    "        maxAge=data[i][0];\n",
    "        keyAge=i;\n",
    "    }\n",
    "    totalTinggi+=data[i][2];\n",
    "}\n",
    "System.out.printf(\"Berat badan terendah adalah : %s (%d)\\n\",nama[keyBerat],minBerat);\n",
    "System.out.printf(\"Umur Tertua adalah : %s (%d)\\n\",nama[keyAge],maxAge);\n",
    "\n",
    "rataTinggi=totalTinggi/data.length;\n",
    "System.out.println(\"Rata-rata tinggi : \" + rataTinggi);"
   ]
  }
 ],
 "metadata": {
  "kernelspec": {
   "display_name": "Java",
   "language": "java",
   "name": "java"
  },
  "language_info": {
   "codemirror_mode": "java",
   "file_extension": ".jshell",
   "mimetype": "text/x-java-source",
   "name": "Java",
   "pygments_lexer": "java",
   "version": "11.0.12+7"
  }
 },
 "nbformat": 4,
 "nbformat_minor": 4
}
