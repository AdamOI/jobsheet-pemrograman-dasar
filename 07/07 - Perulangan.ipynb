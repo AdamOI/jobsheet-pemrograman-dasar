{
 "cells": [
  {
   "cell_type": "markdown",
   "metadata": {},
   "source": [
    "## JOBSHEET 7\n",
    "\n",
    "## PERULANGAN 1\n",
    "\n",
    "### Tujuan\n",
    "\n",
    "Mahasiswa mampu menyelesaikan permasalahan/studi kasus menggunakan sintaks perulangan 1 dan mengimplemantasikannya dalam bahasa pemrogaman java.\n",
    "\n",
    "### Alat dan Bahan\n",
    "+ PC/laptop\n",
    "+ Browser(chrome, firefox, safari)\n",
    "+ Koneksi internet\n",
    "\n",
    "### Praktikum\n",
    "\n",
    "#### Percobaan 1 : Penggunaan for, while dan do-while\n",
    "\n",
    "#### Waktu percobaan : 40 menit\n",
    "\n",
    "1. Perhatikan flowchart perulangan for dibawah ini!\n",
    "\n",
    "    <p align=\"left\">\n",
    "    <img width=\"197\" height=\"259\" src=\"images/flowchartFaktorial.png\">\n",
    "    </p>\n",
    "    \n",
    "\n",
    "> Flowchart diatas digunakan untuk menghitung nilai faktorial, selanjutnya kita akan membuat programnya berdasarkan\n",
    "> flowchart di atas!\n",
    "\n",
    "2. Tambahkan library Scanner, deklarasi Scanner, dan buat variabel angka untuk menampung data yang diinput melalui keyboard\n",
    "\n"
   ]
  },
  {
   "cell_type": "code",
   "execution_count": 2,
   "metadata": {
    "pycharm": {
     "name": "#%%\n"
    }
   },
   "outputs": [],
   "source": [
    "// Ketik kode program di bawah sini\n",
    "import java.util.Scanner;\n",
    "\n",
    "int angka;\n",
    "Scanner sc = new Scanner(System.in);"
   ]
  },
  {
   "cell_type": "markdown",
   "metadata": {},
   "source": [
    "3. Buatlah deklarasi dan inisialisasi variabel faktorial sesuai dengan flowchart diatas"
   ]
  },
  {
   "cell_type": "code",
   "execution_count": 3,
   "metadata": {},
   "outputs": [],
   "source": [
    "// Ketik kode program di bawah sini\n",
    "int faktorial = 1 ;\n"
   ]
  },
  {
   "cell_type": "markdown",
   "metadata": {},
   "source": [
    "4. Tambahkan struktur perulangan untuk menghitung hasil faktorial sebuah nilai yang diinputkan menggunakan for\n",
    "    \n",
    "    <p align=\"left\">\n",
    "    <img width=\"696\" height=\"124\" src=\"images/for.jpg\" align=\"left\">\n",
    "    </p>"
   ]
  },
  {
   "cell_type": "code",
   "execution_count": null,
   "metadata": {},
   "outputs": [],
   "source": [
    "// Ketik kode program di atas di bawah sini\n",
    "System.out.println(\"=====PROGRAM MENGHITUNG NILAI FAKTORIAL DENGAN FOR=====\");\n",
    "System.out.print(\"Masukkan Bilangan : \");\n",
    "angka = sc.nextInt();\n",
    "\n",
    "for(int i = 1;i <= angka;i++)\n",
    "    faktorial *=i;\n",
    "System.out.println(\"Nilai faktorial bilangan tersebut adalah : \"+faktorial);"
   ]
  },
  {
   "cell_type": "markdown",
   "metadata": {},
   "source": [
    "5. Ubah nilai variabel faktorial seperti semula. Kemudian gunakan struktur perulangan while untuk menghitung hasil faktorial sebuah nilai yang diinputkan\n",
    "    \n",
    "    <p align=\"left\">\n",
    "    <img width=\"696\" height=\"124\" src=\"images/while.jpg\" align=\"left\">\n",
    "    </p>"
   ]
  },
  {
   "cell_type": "code",
   "execution_count": 7,
   "metadata": {
    "scrolled": true
   },
   "outputs": [
    {
     "name": "stdout",
     "output_type": "stream",
     "text": [
      "=====PROGRAM MENGHITUNG NILAI FAKTORIAL DENGAN FOR=====\n",
      "Masukkan Bilangan : 5\n",
      "Nilai faktorial bilangan tersebut adalah : 120\n"
     ]
    }
   ],
   "source": [
    "// Ketik kode program di atas di bawah sini\n",
    "faktorial = 1;\n",
    "System.out.println(\"=====PROGRAM MENGHITUNG NILAI FAKTORIAL DENGAN FOR=====\");\n",
    "System.out.print(\"Masukkan Bilangan : \");\n",
    "angka = sc.nextInt();\n",
    "int i =1;\n",
    "while(i<=angka){\n",
    "    faktorial*=i;\n",
    "    i++;\n",
    "}\n",
    "System.out.println(\"Nilai faktorial bilangan tersebut adalah : \"+faktorial);"
   ]
  },
  {
   "cell_type": "markdown",
   "metadata": {},
   "source": [
    "6. Kembalikan lagi nilai variabel faktorial seperti semula. Gunakan struktur perulangan do-while untuk menghitung hasil faktorial sebuah nilai yang diinputkan\n",
    "    \n",
    "    <p align=\"left\">\n",
    "    <img width=\"696\" height=\"124\" src=\"images/dowhile.jpg\" align=\"left\">\n",
    "    </p>"
   ]
  },
  {
   "cell_type": "code",
   "execution_count": null,
   "metadata": {},
   "outputs": [],
   "source": [
    "// Ketik kode program di atas di bawah sini\n",
    "faktorial = 1;\n",
    "System.out.println(\"=====PROGRAM MENGHITUNG NILAI FAKTORIAL DENGAN FOR=====\");\n",
    "System.out.print(\"Masukkan Bilangan : \");\n",
    "angka = sc.nextInt();\n",
    "int i =1;\n",
    "do{\n",
    "    faktorial*=i;\n",
    "    i++;\n",
    "}while(i<=angka);\n",
    "System.out.println(\"Nilai faktorial bilangan tersebut adalah : \"+faktorial);"
   ]
  },
  {
   "cell_type": "markdown",
   "metadata": {},
   "source": [
    "##### Pertanyaan\n",
    "1. Pada program diatas, apakah kegunaan baris berikut?\n",
    "<p align=\"left\">\n",
    "    <img src=\"images/hitungFaktorial.jpg\" align=\"left\">\n",
    "    </p>"
   ]
  },
  {
   "cell_type": "markdown",
   "metadata": {},
   "source": [
    "> Untuk melakukan perkalian terhdadap variable faktorial dengan variable i lalu hasilnya akan dimasukan ke dalam variable faktorial.\n"
   ]
  },
  {
   "cell_type": "markdown",
   "metadata": {},
   "source": [
    "2. Modifikasi program diatas dibagian struktur pemilihannya sehingga hasilnya menjadi seperti di bawah ini:\n",
    "<p align=\"left\">\n",
    "    <img src=\"images/modifP1.jpg\" align=\"left\">\n",
    "    </p>"
   ]
  },
  {
   "cell_type": "code",
   "execution_count": null,
   "metadata": {},
   "outputs": [],
   "source": [
    "// Ketik kode program di atas di bawah sini\n",
    "// Ketik kode program di atas di bawah sini\n",
    "faktorial = 1;\n",
    "System.out.println(\"=====PROGRAM MENGHITUNG NILAI FAKTORIAL DENGAN FOR=====\");\n",
    "System.out.print(\"Masukkan Bilangan : \");\n",
    "angka = sc.nextInt();\n",
    "System.out.print(angka+\"Faktorial = \");\n",
    "int i =1;\n",
    "while(i<=angka){\n",
    "    faktorial*=i;\n",
    "    if(i<angka)\n",
    "        System.out.print(i+\"x\");\n",
    "    else\n",
    "        System.out.print(i);\n",
    "    i++;\n",
    "}\n",
    "System.out.print(\" = \"+faktorial);"
   ]
  },
  {
   "cell_type": "markdown",
   "metadata": {},
   "source": [
    "#### Percobaan 2 : Keluar dari perulangan menggunakan break\n",
    "\n",
    "#### Waktu percobaan : 40 menit"
   ]
  },
  {
   "cell_type": "markdown",
   "metadata": {},
   "source": [
    "1. Buatlah perulangan dengan menggunakan for yang memanfaatkan keyword break\n",
    "<p align=\"left\">\n",
    "    <img width=\"696\" height=\"124\" src=\"images/for2.jpg\" align=\"left\">\n",
    "    </p>"
   ]
  },
  {
   "cell_type": "code",
   "execution_count": null,
   "metadata": {},
   "outputs": [],
   "source": [
    "// Ketik kode program di atas di bawah sini\n",
    "import java.util.Scanner;\n",
    "\n",
    "Scanner sc = new Scanner(System.in);\n",
    "int angka,total;\n",
    "System.out.println(\"===PROGRAM FOR LOOP DENGAN BREAK===\");\n",
    "for(total=0;true;){\n",
    "    System.out.print(\"Masukkan Bilangan : \");\n",
    "    angka=sc.nextInt();\n",
    "    total+=angka;\n",
    "    if(total>50)break;\n",
    "}\n",
    "System.out.println(\"Jumlah angka-angka yang telah dimasukkan :\"+total)"
   ]
  },
  {
   "cell_type": "markdown",
   "metadata": {},
   "source": [
    "2. Buat perulangan yang sama dengan struktur perulangan while\n",
    "<p align=\"left\">\n",
    "    <img width=\"696\" height=\"124\" src=\"images/while2.jpg\" align=\"left\">\n",
    "    </p>"
   ]
  },
  {
   "cell_type": "code",
   "execution_count": null,
   "metadata": {},
   "outputs": [],
   "source": [
    "// Ketik kode program di atas di bawah sini\n",
    "int angka,total;\n",
    "System.out.println(\"===PROGRAM WHILE LOOP DENGAN BREAK===\");\n",
    "total=0;\n",
    "while(true){\n",
    "    System.out.print(\"Masukkan Bilangan : \");\n",
    "    angka=sc.nextInt();\n",
    "    total+=angka;\n",
    "    if(total>50)break;\n",
    "}\n",
    "System.out.println(\"Jumlah angka-angka yang telah dimasukkan :\"+total);"
   ]
  },
  {
   "cell_type": "markdown",
   "metadata": {},
   "source": [
    "3. Tuliskan perulangan diatas dalam struktur do-while\n",
    "    <p align=\"left\">\n",
    "    <img width=\"696\" height=\"124\" src=\"images/dowhile2.jpg\" align=\"left\">\n",
    "    </p>"
   ]
  },
  {
   "cell_type": "code",
   "execution_count": null,
   "metadata": {},
   "outputs": [],
   "source": [
    "// Ketik kode program di atas di bawah sini\n",
    "int angka,total;\n",
    "System.out.println(\"===PROGRAM DO-WHILE LOOP DNEGAN BREAK====\");\n",
    "total=0;\n",
    "do{\n",
    "    System.out.print(\"Masukkan Bilangan : \");\n",
    "    angka=sc.nextInt();\n",
    "    total+=angka;\n",
    "    if(total>50)break;\n",
    "}while(true);\n",
    "System.out.println(\"Jumlah angka-angka yang telah dimasukkan : \"+total);"
   ]
  },
  {
   "cell_type": "markdown",
   "metadata": {},
   "source": [
    "##### Pertanyaan\n",
    "1. Jelaskan fungsi kode program yang telah dibuat pada percobaan diatas!"
   ]
  },
  {
   "cell_type": "markdown",
   "metadata": {},
   "source": [
    "> Kode program diatas digunakan untuk melakukan perulangan dengan memasukkan inputan angka, jika angka tidak lebih dari 50 maka program akan mengulang untuk memasukkan angka sampai total angka lebih dari 50 lalu melakukan break untuk keluar dari pengulangan.\n"
   ]
  },
  {
   "cell_type": "markdown",
   "metadata": {},
   "source": [
    "2. Jelaskan fungsi kode berikut!\n",
    "    <p align=\"left\">\n",
    "    <img src=\"images/forPertanyaan2.jpg\" align=\"left\">\n",
    "    </p>\n"
   ]
  },
  {
   "cell_type": "markdown",
   "metadata": {},
   "source": [
    "> Kode diatas merupakan kode perulangan for loop berfungsi untuk mengulang perulangan jika true artinya akan mengulang terus hingga kondisi tidak true, untuk menghentikannya kita dapat menggunakan break."
   ]
  },
  {
   "cell_type": "markdown",
   "metadata": {},
   "source": [
    "#### Percobaan 3 : Keluar dari step perulangan menggunakan continue\n",
    "\n",
    "#### Waktu percobaan : 40 menit\n",
    "\n",
    "1. Buat program looping menggunakan struktur perulangan for seperti di bawah ini: \n",
    "<p align=\"left\">\n",
    "    <img src=\"images/forContinue.jpg\" align=\"left\">\n",
    "    </p>\n"
   ]
  },
  {
   "cell_type": "code",
   "execution_count": null,
   "metadata": {},
   "outputs": [],
   "source": [
    "// Ketik kode program di atas di bawah sini\n",
    "Scanner sc = new Scanner(System.in);\n",
    "int angka,total,count;\n",
    "double avg;\n",
    "count=0;\n",
    "System.out.println(\"===PROGRAM FOR LOOP DENGAN CONTINUE===\");\n",
    "for(int i=0;i<5;i++){\n",
    "    System.out.print(\"Masukkan Bilangan : \");\n",
    "    angka=sc.nextInt();\n",
    "    if(angka>=50)continue;\n",
    "    total+=angka;\n",
    "    count++;\n",
    "}\n",
    "System.out.println(\"Jumlah angka-angka yang kurang dari 50: \"+total);\n",
    "avg=(double)total/count;\n",
    "System.out.println(\"Rata-Rata angka yang kurang dari 50: \"+avg);"
   ]
  },
  {
   "cell_type": "markdown",
   "metadata": {},
   "source": [
    "5. Jalankan program. Amati apa yang terjadi!"
   ]
  },
  {
   "cell_type": "markdown",
   "metadata": {},
   "source": [
    "##### Pertanyaan\n",
    "1. Jelaskan Perbedaan dari percobaan 2 dan percobaan 3"
   ]
  },
  {
   "cell_type": "markdown",
   "metadata": {},
   "source": [
    "> Perbedaannya adalah percobaan 2 merupakan percobaan menggunakan break sedangkan percobaan 3 merupakan percobaan menggunakan continue. Pada percobaan 2 jika total angka lebih dari 50 maka akan keluar dari perulangan ,sedangkan pada percobaan 3 jika angka lebih dari sama dengan 50 maka akan melanjutkan ke perulangan selannjutnya dan mengabaikan statement dibawah continue."
   ]
  },
  {
   "cell_type": "markdown",
   "metadata": {},
   "source": [
    "2. Jelaskan apa fungsi perintah kode program dibawah ini?\n",
    "<p align=\"left\">\n",
    "    <img width=\"352\" height=\"79\" src=\"images/continuePertanyaan.jpg\" align=\"left\">\n",
    "    </p>"
   ]
  },
  {
   "cell_type": "markdown",
   "metadata": {},
   "source": [
    "> Jika angka lebih dari sama dengan 50 maka akan melanjutkan ke perulangan selanjutnya dan mengabaikan statement dibawahnya."
   ]
  },
  {
   "cell_type": "markdown",
   "metadata": {},
   "source": [
    "### Tugas\n",
    "\n",
    "#### Waktu pengerjaan Tugas: 140 menit\n",
    "\n",
    "1. Buatlah program yang meminta masukan user sebuah bilangan bulat N (N > 0). Program kemudian menampilkan penjumlahan N bilangan genap positif pertama (bilangan genap ≥ 0).\n",
    "Contoh: \n",
    "    •\tJika user memasukkan N = 10, program akan menghitung banyaknya jumlah bilangan positive di dalam range bilangan 1-10   kemudian menampilkan penjumlahan bilangan positive bilangan bilangan diantara 1-10 yaitu : \n",
    "        0 + 2 + 4 + 6 + 10 = 30. \n",
    "        Setelah itu program akan menampilkan rata-rata dari bilangan positive yang telah dijumlahkan tadi.\n",
    "    •\tContoh output program dan flowchart\n",
    "<br/><img width=\"303\" height=\"529\" src=\"images/hasilTugasFc.jpg\" align=\"left\"><br/>\n",
    "  \n",
    "\n",
    "<br/><img width=\"303\" height=\"529\" src=\"images/fcTugasJS7.png\" align=\"left\">\n"
   ]
  },
  {
   "cell_type": "code",
   "execution_count": 30,
   "metadata": {},
   "outputs": [
    {
     "name": "stdout",
     "output_type": "stream",
     "text": [
      "Masukkan Bilangan : 10\n",
      "Banyaknya bilangan genap dari 1 sampai 10 adalah5\n",
      "Angka genap dalam range tersebut adalah : 2, 4, 6, 8, 10\n",
      "Hasil penjumlahan bilangan genap dari 1 sampai 10 adalah : 30\n",
      "Rata-rata bilangan genap dari 1 sampai 10 adalah : 6.0\n"
     ]
    }
   ],
   "source": [
    "// Ketik kode program disini\n",
    "import java.util.Scanner;\n",
    "\n",
    "Scanner sc = new Scanner(System.in);\n",
    "int bil, jmlBilGenap;\n",
    "int totalGenap=0;\n",
    "double avg;\n",
    "\n",
    "System.out.print(\"Masukkan Bilangan : \");\n",
    "bil = sc.nextInt();\n",
    "jmlBilGenap=bil/2;\n",
    "System.out.println(\"Banyaknya bilangan genap dari 1 sampai \"+bil+\" adalah\"+jmlBilGenap);\n",
    "System.out.print(\"Angka genap dalam range tersebut adalah : \");\n",
    "for(int i = 1; i<=bil;i++){\n",
    "    if(i%2!=0)continue;\n",
    "    if(i<bil)\n",
    "        System.out.print(i+\", \");\n",
    "    else\n",
    "        System.out.print(i);\n",
    "    totalGenap += i;\n",
    "}\n",
    "avg=totalGenap/jmlBilGenap;\n",
    "System.out.println(\"\\nHasil penjumlahan bilangan genap dari 1 sampai \"+bil+\" adalah : \"+totalGenap);\n",
    "System.out.println(\"Rata-rata bilangan genap dari 1 sampai \"+bil+\" adalah : \"+avg);"
   ]
  },
  {
   "cell_type": "markdown",
   "metadata": {},
   "source": [
    "2. Buatlah program untuk menampilkan angka 1 hingga angka masukan pengguna secara berurutan dan melompati angka kelipatan 5. Seperti tampilan di bawah ini\n",
    "<p align=\"left\">\n",
    "<img width=\"184\" height=\"328\" src=\"images/tugas1.jpg\" align=\"left\">\n",
    "</p>"
   ]
  },
  {
   "cell_type": "code",
   "execution_count": 2,
   "metadata": {},
   "outputs": [
    {
     "name": "stdout",
     "output_type": "stream",
     "text": [
      "Masukkan angka : 19\n",
      "1\n",
      "2\n",
      "3\n",
      "4\n",
      "6\n",
      "7\n",
      "8\n",
      "9\n",
      "11\n",
      "12\n",
      "13\n",
      "14\n",
      "16\n",
      "17\n",
      "18\n",
      "19\n"
     ]
    }
   ],
   "source": [
    "// Ketik kode program disini\n",
    "import java.util.Scanner;\n",
    "\n",
    "Scanner sc = new Scanner(System.in);\n",
    "System.out.print(\"Masukkan angka : \");\n",
    "int angka=sc.nextInt();\n",
    "int i = 0;\n",
    "while (++i <= angka) {\n",
    "    if(i%5 == 0) continue;\n",
    "    System.out.println(i);\n",
    "   \n",
    "}"
   ]
  },
  {
   "cell_type": "markdown",
   "metadata": {},
   "source": [
    "3. Buatlah sebuah program yang menampilkan deret bilangan fibonacci sebagai berikut. Dimana bilangan yang terletak di sebelah kanan adalah hasil penjumlahan dari 2 bilangan sebelumnya\n",
    " <p align=\"left\">\n",
    "    <img width=\"451\" height=\"226\" src=\"images/fibo.png\" align=\"left\">\n",
    "    </p>\n"
   ]
  },
  {
   "cell_type": "code",
   "execution_count": 17,
   "metadata": {},
   "outputs": [
    {
     "name": "stdout",
     "output_type": "stream",
     "text": [
      "Masukkan banyak perulangan : 12\n",
      "[0][1][1][2][3][5][8][13][21][34][55][89]"
     ]
    }
   ],
   "source": [
    "// Ketik kode program disini\n",
    "int bil1=0,bil2=1,bil3,counter;\n",
    "Scanner sc = new Scanner(System.in);\n",
    "System.out.print(\"Masukkan banyak perulangan : \");\n",
    "counter=sc.nextInt();\n",
    "\n",
    "for(int i=0;i<counter;i++){\n",
    "    System.out.print(\"[\"+bil1+\"]\");\n",
    "    bil3=bil1+bil2;\n",
    "    bil1=bil2;\n",
    "    bil2=bil3;\n",
    "   \n",
    "}"
   ]
  },
  {
   "cell_type": "code",
   "execution_count": null,
   "metadata": {},
   "outputs": [],
   "source": []
  }
 ],
 "metadata": {
  "kernelspec": {
   "display_name": "Java",
   "language": "java",
   "name": "java"
  },
  "language_info": {
   "codemirror_mode": "java",
   "file_extension": ".jshell",
   "mimetype": "text/x-java-source",
   "name": "Java",
   "pygments_lexer": "java",
   "version": "11.0.12+7"
  },
  "nteract": {
   "version": "nteract-on-jupyter@2.1.3"
  }
 },
 "nbformat": 4,
 "nbformat_minor": 1
}
