{
 "cells": [
  {
   "cell_type": "markdown",
   "metadata": {
    "collapsed": true
   },
   "source": [
    "## JOBSHEET 6\n",
    "\n",
    "## PEMILIHAN 2\n",
    "\n",
    "### Tujuan\n",
    "\n",
    "Mahasiswa memahami tentang operator logika; Mahasiswa mampu menyelesaikan permasalahan dengan menggunakan sintaks pemilihan bersarang; Mahasiswa mampu membuat sebuah program Java yang memanfaatkan sintaks pemilihan bersarang\n",
    "\n",
    "\n",
    "### Alat dan Bahan\n",
    "+ PC/laptop\n",
    "+ Browser(chrome, firefox, safari)\n",
    "+ Koneksi internet\n",
    "\n",
    "### Praktikum\n",
    "\n",
    "#### Percobaan 1\n",
    "\n",
    "#### Waktu percobaan : 40 menit\n",
    "\n",
    "1. Tambahkan library Scanner, deklarasi Scanner\n",
    "\n",
    "2. Buatlah variabel nilai yang memiliki tipe data int untuk menampung data yang diinput melalui keyboard\n",
    "\n",
    "    ![](images/03.png4.png)"
   ]
  },
  {
   "cell_type": "code",
   "execution_count": 6,
   "metadata": {},
   "outputs": [
    {
     "name": "stdout",
     "output_type": "stream",
     "text": [
      "Masukan nilai : 105\n"
     ]
    }
   ],
   "source": [
    "// Ketik kode di sini\n",
    "import java.util.Scanner;\n",
    "\n",
    "Scanner sc = new Scanner(System.in);\n",
    "int nilai;\n",
    "System.out.print(\"Masukan nilai : \");\n",
    "nilai = sc.nextInt();"
   ]
  },
  {
   "cell_type": "markdown",
   "metadata": {},
   "source": [
    "3. Buatlah struktur pengecekan kondisi bersarang. Pengecekan pertama digunakan untuk memastikan bahwa nilai yang dimasukkan berada pada rentang 0 – 100. Jika nilai berada pada rentang 0 – 100, maka akan dilakukan pengecekan status kelulusan mahasiswa, yaitu jika nilai di antara 90 – 100 maka nilainya A, jika nilai di antara 80 – 89 maka nilainya B, jika nilai di antara 60 – 79 maka nilainya C, jika nilai di antara 50 – 59 maka nilainya D, dan jika nilai di antara 0 – 49 maka nilainya E. Sedangkan jika nilai berada di luar rentang 0 – 100, maka ditampilkan informasi bahwa nilai yang dimasukkan tidak valid.\n",
    "\n",
    "    ![](images/04.png)"
   ]
  },
  {
   "cell_type": "code",
   "execution_count": 2,
   "metadata": {},
   "outputs": [
    {
     "name": "stdout",
     "output_type": "stream",
     "text": [
      "Selamat Anda mendapat nilai E\n"
     ]
    }
   ],
   "source": [
    "// Ketik kode di sini\n",
    "if(nilai >= 0 && nilai <= 100){\n",
    "    if(nilai >= 90 && nilai <=100){\n",
    "        System.out.println(\"Selamat Anda mendapat nilai A\");\n",
    "    }else if (nilai >= 80 && nilai <= 89){\n",
    "        System.out.println(\"Selamat Anda mendapat nilai B\");\n",
    "    }else if (nilai >= 60 && nilai <= 79){\n",
    "        System.out.println(\"Selamat Anda mendapat nilai C\");\n",
    "    }else if (nilai >= 50 && nilai <= 59){\n",
    "        System.out.println(\"Selamat Anda mendapat nilai D\");\n",
    "    }else{\n",
    "        System.out.println(\"Selamat Anda mendapat nilai E\");\n",
    "    }\n",
    "}else{\n",
    "    System.out.println(\"Nilai yang Anda masukan tidak valid\");\n",
    "}"
   ]
  },
  {
   "cell_type": "markdown",
   "metadata": {},
   "source": [
    "> Penjelasan kode program percobaan 1\n",
    "> Pada program diatas pertama akan mengecek inputan nilai berada pada rentang 0 - 100, jika benar maka akan mengecek nilai sesuai dengan rentang status nilai."
   ]
  },
  {
   "cell_type": "markdown",
   "metadata": {},
   "source": [
    "##### Pertanyaan\n",
    "\n",
    "1. Modifikasi kode program pada Percobaan 1 sehingga jika nilai yang dimasukkan kurang dari 0 akan ditampilkan output “Nilai yang Anda masukkan kurang dari 0” dan jika nilai yang dimasukkan lebih dari 100 akan ditampilkan output “Nilai yang Anda masukkan lebih dari 100”!\n",
    "\n",
    "2. Jelaskan fungsi sintaks if (nilai >= 0 && nilai <= 100)!\n",
    "\n",
    "3. Ubah operator && menjadi || pada sintaks if (nilai >= 0 && nilai <= 100). Jalankan program dengan memasukkan nilai = 105. Amati apa yang terjadi! Mengapa hasilnya demikian?"
   ]
  },
  {
   "cell_type": "code",
   "execution_count": 3,
   "metadata": {},
   "outputs": [
    {
     "name": "stdout",
     "output_type": "stream",
     "text": [
      "Selamat Anda mendapat nilai E\n"
     ]
    }
   ],
   "source": [
    "// Jawaban pertanyaan\n",
    "// Ketik kode di sini\n",
    "if(nilai >= 0 && nilai <= 100){\n",
    "    if(nilai >= 90 && nilai <=100){\n",
    "        System.out.println(\"Selamat Anda mendapat nilai A\");\n",
    "    }else if (nilai >= 80 && nilai <= 89){\n",
    "        System.out.println(\"Selamat Anda mendapat nilai B\");\n",
    "    }else if (nilai >= 60 && nilai <= 79){\n",
    "        System.out.println(\"Selamat Anda mendapat nilai C\");\n",
    "    }else if (nilai >= 50 && nilai <= 59){\n",
    "        System.out.println(\"Selamat Anda mendapat nilai D\");\n",
    "    }else{\n",
    "        System.out.println(\"Selamat Anda mendapat nilai E\");\n",
    "    }\n",
    "}else if(nilai > 100){\n",
    "    System.out.println(\"Nilai yang Anda masukkan lebih dari 100\");\n",
    "}else if(nilai < 0){\n",
    "    System.out.println(\"Nilai yang Anda masukkan kurang dari 0\");\n",
    "}\n",
    "else{\n",
    "    System.out.println(\"Nilai yang Anda masukan tidak valid\");\n",
    "}"
   ]
  },
  {
   "cell_type": "markdown",
   "metadata": {},
   "source": [
    "> 2. Digunakan untuk mengecek kondisi jika nilai lebih dari sama dengan 0 dan nilai kurang dari sama dengan 100\n",
    "> 3. Perkondisi tersebut akan menghasilkan benar karena salah satu kondisi terpenuhi yaitu nilai lebih dari sama 0 walaupun nilai kurang dari sama dengan 100 tidak terpenuhi karena menggunakan operator OR maka akan dinilai benar jika salah satu benar."
   ]
  },
  {
   "cell_type": "code",
   "execution_count": 7,
   "metadata": {},
   "outputs": [
    {
     "name": "stdout",
     "output_type": "stream",
     "text": [
      "Selamat Anda mendapat nilai E\n"
     ]
    }
   ],
   "source": [
    "// Jawaban pertanyaan\n",
    "// Ketik kode di sini\n",
    "if(nilai >= 0 || nilai <= 100){\n",
    "    if(nilai >= 90 && nilai <=100){\n",
    "        System.out.println(\"Selamat Anda mendapat nilai A\");\n",
    "    }else if (nilai >= 80 && nilai <= 89){\n",
    "        System.out.println(\"Selamat Anda mendapat nilai B\");\n",
    "    }else if (nilai >= 60 && nilai <= 79){\n",
    "        System.out.println(\"Selamat Anda mendapat nilai C\");\n",
    "    }else if (nilai >= 50 && nilai <= 59){\n",
    "        System.out.println(\"Selamat Anda mendapat nilai D\");\n",
    "    }else{\n",
    "        System.out.println(\"Selamat Anda mendapat nilai E\");\n",
    "    }\n",
    "}else if(nilai > 100){\n",
    "    System.out.println(\"Nilai yang Anda masukkan lebih dari 100\");\n",
    "}else if(nilai < 0){\n",
    "    System.out.println(\"Nilai yang Anda masukkan kurang dari 0\");\n",
    "}\n",
    "else{\n",
    "    System.out.println(\"Nilai yang Anda masukan tidak valid\");\n",
    "}"
   ]
  },
  {
   "cell_type": "markdown",
   "metadata": {},
   "source": [
    "#### Percobaan 2\n",
    "\n",
    "#### Waktu percobaan : 40 menit"
   ]
  },
  {
   "cell_type": "markdown",
   "metadata": {},
   "source": [
    "1. Perhatikan flowchart dibawah ini!\n",
    "\n",
    "![](images/02.png)\n",
    "\n",
    "> Flowchart tersebut digunakan untuk menghitung gaji bersih seseorang setelah dipotong pajak sesuai dengan kategorinya (pekerja dan pebisnis) dan besarnya penghasilan. "
   ]
  },
  {
   "cell_type": "markdown",
   "metadata": {},
   "source": [
    "2. Tambahkan library Scanner dan deklarasi Scanner\n",
    "\n",
    "3. Deklarasikan variabel kategori, penghasilan, gajiBersih, dan pajak\n",
    "\n",
    "    ![](images/05.png)"
   ]
  },
  {
   "cell_type": "code",
   "execution_count": 6,
   "metadata": {},
   "outputs": [
    {
     "name": "stdout",
     "output_type": "stream",
     "text": [
      "Masukkan kategori : PEBISNIS\n",
      "Masukkan penghasilan :100000\n"
     ]
    }
   ],
   "source": [
    "// Ketik kode di sini\n",
    "import java.util.Scanner;\n",
    "\n",
    "Scanner sc = new Scanner(System.in);\n",
    "String kategori;\n",
    "int penghasilan,gajiBersih;\n",
    "double pajak;\n",
    "\n",
    "System.out.print(\"Masukkan kategori : \");\n",
    "kategori = sc.nextLine();\n",
    "System.out.print(\"Masukkan penghasilan :\");\n",
    "penghasilan = sc.nextInt();"
   ]
  },
  {
   "cell_type": "markdown",
   "metadata": {},
   "source": [
    "4. Buatlah struktur pengecekan kondisi bersarang. Pengecekan pertama digunakan untuk mengecek kategori (pekerja atau pebisnis). Selanjutnya dilakukan pengecekan kedua untuk menentukan besarnya pajak berdasarkan penghasilan yang telah dimasukkan.Kemudian tambahkan kode program untuk menghitung gaji bersih yang diterima setelah dipotong pajak!\n",
    "\n",
    "    ![](images/06.png)"
   ]
  },
  {
   "cell_type": "code",
   "execution_count": 7,
   "metadata": {},
   "outputs": [
    {
     "name": "stdout",
     "output_type": "stream",
     "text": [
      "Kategori Salah\n"
     ]
    }
   ],
   "source": [
    "// Ketik kode di sini\n",
    "if(kategori.equals(\"pekerja\")){\n",
    "    if(penghasilan <= 2000000){\n",
    "        pajak = 0.1;\n",
    "    }\n",
    "    else if (penghasilan <= 3000000){\n",
    "        pajak = 0.15;\n",
    "    }else{\n",
    "        pajak =0.2;\n",
    "    }\n",
    "    gajiBersih = (int) (penghasilan - (penghasilan * pajak));\n",
    "    System.out.println(\"Gaji bersih anda segini : \" + gajiBersih);\n",
    "}else if(kategori.equals(\"pebisnis\")){\n",
    "     if(penghasilan <= 2500000){\n",
    "        pajak = 0.15;\n",
    "    }\n",
    "    else if (penghasilan <= 3500000){\n",
    "        pajak = 0.2;\n",
    "    }else{\n",
    "        pajak =0.25;\n",
    "    }\n",
    "    gajiBersih = (int) (penghasilan - (penghasilan * pajak));\n",
    "    System.out.println(\"Gaji bersih anda segini : \" + gajiBersih);\n",
    "}\n",
    "else{\n",
    "    System.out.println(\"Kategori Salah\");\n",
    "}\n"
   ]
  },
  {
   "cell_type": "markdown",
   "metadata": {},
   "source": [
    "5. Jalankan program di atas. Amati apa yang terjadi!"
   ]
  },
  {
   "cell_type": "markdown",
   "metadata": {},
   "source": [
    "> Penjelasan kode program percobaan 2\n",
    "> Program diatas digunakan untuk menghitung gaji bersih pekerja atau pebisnis. pertama user menginputkan kategori pekerjaan dan penghasilan lalu akan di cek jika kategori pekerja atau pebisnis setelah itu lanjut ke pengecheckan gaji masing masing kategori lalu pajak akan sesuai dengan rentang gaji. setelah itu dihitung deh gaji bersihnya dan dikeluarkan gaji bersihnya."
   ]
  },
  {
   "cell_type": "markdown",
   "metadata": {},
   "source": [
    "##### Pertanyaan\n",
    "\n",
    "1. Jalankan program dengan memasukkan kategori = pekerja dan penghasilan = 2048485. Amati apa yang terjadi! Mengapa angka di belakang koma tidak ditampilkan?\n",
    "\n",
    "2. Jelaskan fungsi dari (int) pada sintaks:\n",
    "```\n",
    "gajiBersih = (int) (penghasilan - (penghasilan * pajak));\n",
    "```\n",
    "\n",
    "3.\tJalankan program dengan memasukkan kategori = PEBISNIS dan penghasilan = 2000000. Amati apa yang terjadi! Apa kegunaan dari equalsIgnoreCase?\n",
    "\n",
    "4.\tUbah equalsIgnoreCase menjadi equals, kemudian jalankan program dengan memasukkan kategori = PEBISNIS dan penghasilan = 2000000. Amati apa yang terjadi! Mengapa hasilnya demikian? Apa kegunaan dari equals?"
   ]
  },
  {
   "cell_type": "markdown",
   "metadata": {},
   "source": [
    "> 1. karena tipe data gajiBersih adalah int sehingga decimalnya tidak ditampilkan bedalagi kalau pakai double atau float.\n",
    "> 2. fungsi diatas untuk menghitung gajiBersih lalu hasilnya dilakukan narrowing casting ke integer.\n",
    "> 3. equalsIgnoreCase berguna untuk membandingkan String apakah sama atau tidak dengan mengecualikan case nya jadi mau pake huruf besar atau kecil sama saja yang penting kalimatnya sama.\n",
    "> 4. karena menggunakan equals saja maka jika casenya tidak sama maka akan salah. Kegunaan equals untuk membandingkan String apakah sama atau tidak tetapi masih memperhatikan casenya."
   ]
  },
  {
   "cell_type": "code",
   "execution_count": 7,
   "metadata": {},
   "outputs": [],
   "source": [
    "// Jawaban pertanyaan"
   ]
  },
  {
   "cell_type": "markdown",
   "metadata": {},
   "source": [
    "### Tugas\n",
    "\n",
    "#### Waktu pengerjaan Tugas: 140 menit\n",
    "\n",
    "1. Buatlah program kalkulator sederhana menggunakan bahasa pemrograman Java. User akan menginputkan dua buah bilangan riil dan satu buah operator aritmatika (+, -, *, atau /), kemudian program akan mengoperasikan dua bilangan tersebut dengan operator yang sesuai. Petunjuk: gunakan pernyataan switch-case.\n",
    "Contoh tampilan program:\n",
    "\n",
    "```\n",
    "Masukkan bilangan pertama: 2.5\n",
    "Masukkan operator (+, -, *, /): *\n",
    "Masukkan bilangan kedua: 4\n",
    "2.5 * 4.0 = 10.0\n",
    "\n",
    "```"
   ]
  },
  {
   "cell_type": "code",
   "execution_count": 8,
   "metadata": {},
   "outputs": [
    {
     "name": "stdout",
     "output_type": "stream",
     "text": [
      "Masukkan angka pertama : 20\n",
      "Masukkan operator (+ - * /) : 20\n",
      "Masukkan angka kedua : 2130\n",
      "Operator yang Anda masukkan salah\n"
     ]
    }
   ],
   "source": [
    "//ketik kode program dan lampirkan hasilnya disini\n",
    "import java.util.Scanner;\n",
    "\n",
    "Scanner sc = new Scanner(System.in);\n",
    "char operator;\n",
    "double angka1,angka2,hasil;\n",
    "\n",
    "// Ketik kode program di atas di bawah sini\n",
    "System.out.print(\"Masukkan angka pertama : \");\n",
    "angka1 = sc.nextDouble();\n",
    "System.out.print(\"Masukkan operator (+ - * /) : \");\n",
    "operator = sc.next().charAt(0);\n",
    "System.out.print(\"Masukkan angka kedua : \");\n",
    "angka2 = sc.nextDouble();\n",
    "\n",
    "switch(operator){\n",
    "    case '+':\n",
    "        hasil = angka1 + angka2;\n",
    "        System.out.println(angka1 + \" + \" + angka2 + \" = \" + hasil);\n",
    "        break;\n",
    "    case '-':\n",
    "        hasil = angka1 - angka2;\n",
    "        System.out.println(angka1 + \" - \" + angka2 + \" = \" + hasil);\n",
    "        break;\n",
    "    case '*':\n",
    "        hasil = angka1 * angka2;\n",
    "        System.out.println(angka1 + \" * \" + angka2 + \" = \" + hasil);\n",
    "        break;\n",
    "    case '/':\n",
    "        hasil = angka1 / angka2;\n",
    "        System.out.println(angka1 + \" / \" + angka2 + \" = \" + hasil);\n",
    "        break;\n",
    "    default:\n",
    "        System.out.println(\"Operator yang Anda masukkan salah\");\n",
    "}"
   ]
  },
  {
   "cell_type": "markdown",
   "metadata": {},
   "source": [
    "2. Dengan menggunakan tiga nilai yang mewakili panjang tiga sisi sebuah segitiga, tentukan apakah segitiga tersebut sama sisi (ketiga sisinya bernilai sama), sama kaki (kedua sisinya bernilai sama), atau sembarang (tidak ada sisi yang bernilai sama)! "
   ]
  },
  {
   "cell_type": "code",
   "execution_count": 9,
   "metadata": {},
   "outputs": [
    {
     "name": "stdout",
     "output_type": "stream",
     "text": [
      "Masukkan panjang sisi 1 : 2130\n",
      "Masukkan panjang sisi 2 : 1230\n",
      "Masukkan panjang sisi 3 : 1230\n",
      "ini adalah segitiga sama kaki\n"
     ]
    }
   ],
   "source": [
    "//ketik kode program dan lampirkan hasilnya disini\n",
    "import java.util.Scanner;\n",
    "\n",
    "Scanner sc = new Scanner(System.in);\n",
    "double sisi1,sisi2,sisi3;\n",
    "\n",
    "System.out.print(\"Masukkan panjang sisi 1 : \");\n",
    "sisi1 = sc.nextDouble();\n",
    "System.out.print(\"Masukkan panjang sisi 2 : \");\n",
    "sisi2= sc.nextDouble();\n",
    "System.out.print(\"Masukkan panjang sisi 3 : \");\n",
    "sisi3= sc.nextDouble();\n",
    "\n",
    "if(sisi1 == sisi2 && sisi1 == sisi3 ){\n",
    "    System.out.println(\"ini adalah segitiga sama sisi\");\n",
    "}else if((sisi1 == sisi2) || (sisi2 == sisi3) || sisi3 == sisi1){\n",
    "    System.out.println(\"ini adalah segitiga sama kaki\");\n",
    "}else{\n",
    "    System.out.println(\"ini adlah segitiga sembarang\");\n",
    "}"
   ]
  },
  {
   "cell_type": "markdown",
   "metadata": {},
   "source": [
    "3. Warung Padang Gembira meminta Anda membuat sebuah program untuk menerima pesanan dari internet. Program yang Anda buat meminta user untuk memasukkan nama makanan dan harga. Setelah itu, user ditawarkan untuk menggunakan pengiriman ekspres. Jika pengguna menolak, maka jenis pengiriman yang digunakan adalah pengiriman reguler. Biaya pengiriman reguler untuk harga makanan kurang dari Rp 100.000 adalah Rp 20.000, sedangkan untuk harga makanan sama dengan atau lebih dari Rp 100.000 biaya pengirimannya adalah Rp 30.000. Untuk jenis pengiriman ekspres, tambahkan biaya tambahan sebesar Rp 25.000 dari standar biaya pengiriman reguler. Tampilkan struk yang berisi nama makanan yang dibeli + harga, biaya pengiriman, dan total yang harus dibayar!\n",
    "Contoh hasil output program:\n",
    "\n",
    "```\n",
    "Masukkan nama makanan: Tuna salad\n",
    "Masukkan harga makanan: Rp 115000\n",
    "Apakah Anda ingin pengiriman ekspres (0 = tidak, 1 = ya)? 0\n",
    "\n",
    "STRUK PEMBELIAN\n",
    "Tuna salad        Rp 115000\n",
    "Biaya pengiriman  Rp 30000\n",
    "TOTAL             Rp 145000\n",
    "\n",
    "```\n",
    "\n",
    "```\n",
    "Masukkan nama makanan: Beef bulgogi\n",
    "Masukkan harga makanan: Rp 78000\n",
    "Apakah Anda ingin pengiriman ekspres (0 = tidak, 1 = ya)? 1\n",
    "\n",
    "STRUK PEMBELIAN\n",
    "Beef bulgogi      Rp 115000\n",
    "Biaya pengiriman  Rp 45000\n",
    "TOTAL             Rp 123000\n",
    "\n",
    "```\n",
    "\n"
   ]
  },
  {
   "cell_type": "code",
   "execution_count": 10,
   "metadata": {},
   "outputs": [
    {
     "name": "stdout",
     "output_type": "stream",
     "text": [
      "Masukkan nama makanan : 1023\n",
      "Masukkan harga makanan : 1230\n",
      "Apakah Anda ingin pengiriman exspres (0 = tidak, 1 = ya)?1203\n"
     ]
    },
    {
     "ename": "EvalException",
     "evalue": "Value out of range. Value:\"1203\" Radix:10",
     "output_type": "error",
     "traceback": [
      "\u001b[1m\u001b[31m---------------------------------------------------------------------------\u001b[0m",
      "\u001b[1m\u001b[31mjava.util.InputMismatchException: Value out of range. Value:\"1203\" Radix:10\u001b[0m",
      "\u001b[1m\u001b[31m\tat java.base/java.util.Scanner.nextByte(Scanner.java:2008)\u001b[0m",
      "\u001b[1m\u001b[31m\tat java.base/java.util.Scanner.nextByte(Scanner.java:1956)\u001b[0m",
      "\u001b[1m\u001b[31m\tat .(#60:1)\u001b[0m"
     ]
    }
   ],
   "source": [
    "//ketik kode program dan lampirkan hasilnya disini\n",
    "import java.util.Scanner;\n",
    "\n",
    "Scanner sc = new Scanner(System.in);\n",
    "String namaMakanan;\n",
    "long hargaMakanan,biayaPengiriman, total;\n",
    "byte isEkspres;\n",
    "\n",
    "System.out.print(\"Masukkan nama makanan : \");\n",
    "namaMakanan = sc.nextLine();\n",
    "System.out.print(\"Masukkan harga makanan : \");\n",
    "hargaMakanan = sc.nextLong();\n",
    "System.out.print(\"Apakah Anda ingin pengiriman exspres (0 = tidak, 1 = ya)?\");\n",
    "isEkspres = sc.nextByte();\n",
    "\n",
    "if(hargaMakanan >= 100000)\n",
    "    biayaPengiriman = 30000;\n",
    "else\n",
    "    biayaPengiriman = 20000;\n",
    "\n",
    "if(isEkspres == 1)\n",
    "    biayaPengiriman +=25000;\n",
    "\n",
    "total = hargaMakanan + biayaPengiriman;\n",
    "\n",
    "System.out.println(\"STRUK PEMBELIAN\");\n",
    "System.out.println(namaMakanan + \"\\t\\t Rp \" + hargaMakanan);\n",
    "System.out.println(\"Biaya Pengiriman \\t Rp \" + biayaPengiriman);\n",
    "System.out.println(\"Total \\t\\t\\t Rp \" + total);"
   ]
  },
  {
   "cell_type": "markdown",
   "metadata": {},
   "source": [
    "4. Perhatikan flowchart berikut ini!\n",
    "\n",
    "![](images/01.png)\n",
    "\n",
    "> Buatlah program sesuai dengan flowchart diatas!"
   ]
  },
  {
   "cell_type": "code",
   "execution_count": 1,
   "metadata": {},
   "outputs": [
    {
     "name": "stdout",
     "output_type": "stream",
     "text": [
      "Masukkan umur Anda : 18\n",
      "Sudah bekerja ? (sudah atau belum) : sudah\n",
      "Masukkan pendapatan perbulan anda : 100000\n",
      "Masukkan jumlah tanggungan Anda : 2\n",
      "Anda termasuk penduduk miskin\n"
     ]
    }
   ],
   "source": [
    "//ketik kode program dan lampirkan hasilnya disini\n",
    "import java.util.Scanner;\n",
    "\n",
    "Scanner sc = new Scanner(System.in);\n",
    "int umur,tanggungan;\n",
    "boolean isMiskin;\n",
    "double pendapatan,biayaHidup;\n",
    "\n",
    "System.out.print(\"Masukkan umur Anda : \");\n",
    "umur = sc.nextInt();\n",
    "\n",
    "if(umur >= 18){\n",
    "    System.out.print(\"Sudah bekerja ? (sudah atau belum) : \");\n",
    "    String statusBekerja = sc.next();\n",
    "    if(statusBekerja.equalsIgnoreCase(\"sudah\")){\n",
    "        System.out.print(\"Masukkan pendapatan perbulan anda : \");\n",
    "        pendapatan = sc.nextDouble();\n",
    "        System.out.print(\"Masukkan jumlah tanggungan Anda : \");\n",
    "        tanggungan = sc.nextInt();\n",
    "        biayaHidup = pendapatan / tanggungan;\n",
    "        if(biayaHidup < 300000)\n",
    "            isMiskin = true;\n",
    "    }else if(statusBekerja.equalsIgnoreCase(\"belum\")){\n",
    "        isMiskin = true;\n",
    "    }else{\n",
    "        System.out.print(\"Maaf inputan yang anda masukan tidak valid\");\n",
    "        System.exit(0);\n",
    "    }\n",
    "}else{\n",
    "    System.out.print(\"Masih sekolah ? (ya atau tidak) : \");\n",
    "    String statusSekolah = sc.next();\n",
    "    if(statusSekolah.equalsIgnoreCase(\"ya\"))\n",
    "       isMiskin = false;\n",
    "    else if(statusSekolah.equalsIgnoreCase(\"tidak\"))\n",
    "        isMiskin = true;\n",
    "    else {\n",
    "        System.out.println(\"Maaf inputan yang anda masukan tidak valid\");\n",
    "        System.exit(0);\n",
    "    }\n",
    "}\n",
    "\n",
    "if(isMiskin)\n",
    "    System.out.println(\"Anda termasuk penduduk miskin\");\n",
    "else\n",
    "    System.out.println(\"Anda bukan termasuk penduduk miskin\");"
   ]
  },
  {
   "cell_type": "code",
   "execution_count": null,
   "metadata": {},
   "outputs": [],
   "source": []
  }
 ],
 "metadata": {
  "kernelspec": {
   "display_name": "Java",
   "language": "java",
   "name": "java"
  },
  "language_info": {
   "codemirror_mode": "java",
   "file_extension": ".jshell",
   "mimetype": "text/x-java-source",
   "name": "Java",
   "pygments_lexer": "java",
   "version": "11.0.12+7"
  },
  "nteract": {
   "version": "nteract-on-jupyter@2.1.3"
  }
 },
 "nbformat": 4,
 "nbformat_minor": 1
}
